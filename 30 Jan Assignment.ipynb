{
 "cells": [
  {
   "cell_type": "markdown",
   "id": "30ea8426-bccf-4f9b-a04c-17521ae4093f",
   "metadata": {},
   "source": [
    "Q1. Cretea program to enter percentage of students and diplay grades as per give, below ?\n"
   ]
  },
  {
   "cell_type": "code",
   "execution_count": 10,
   "id": "cb79c794-9abc-4a25-b22a-b502823ef76b",
   "metadata": {},
   "outputs": [
    {
     "name": "stdin",
     "output_type": "stream",
     "text": [
      "Enter percentage of the student:  80\n"
     ]
    },
    {
     "name": "stdout",
     "output_type": "stream",
     "text": [
      "80\n",
      "Grade: C\n"
     ]
    }
   ],
   "source": [
    "Perentage = int(input(\"Enter percentage of the student: \"))\n",
    "print(Perentage)\n",
    "\n",
    "if(Perentage>=90):\n",
    "    print(\"Grade: A\")\n",
    "elif(Perentage >80 & Perentage <=90):\n",
    "    print(\"Grade: B\")\n",
    "elif(Perentage >=60 & Perentage <=80):\n",
    "    print(\"Grade: C\")\n",
    "else:\n",
    "    print(\"Grade: D\")"
   ]
  },
  {
   "cell_type": "markdown",
   "id": "87d17a75-fc3b-4e81-875e-03089f1043d0",
   "metadata": {},
   "source": [
    "Q2. Write a program to accept the the cost price of bike & display road tax ?"
   ]
  },
  {
   "cell_type": "code",
   "execution_count": 17,
   "id": "9b1c1b7f-28c8-4645-97ff-79313c99687d",
   "metadata": {},
   "outputs": [
    {
     "name": "stdin",
     "output_type": "stream",
     "text": [
      "Enter Price of the bike:  50000\n"
     ]
    },
    {
     "name": "stdout",
     "output_type": "stream",
     "text": [
      "50000\n",
      "Tax: 5%\n"
     ]
    }
   ],
   "source": [
    "price = int(input(\"Enter Price of the bike: \"))\n",
    "print(price)\n",
    "\n",
    "if(price>100000):\n",
    "    print(\"Tax: 15%\")\n",
    "elif(price>50000 &  price <=100000):\n",
    "    print(\"Tax: 10%\")\n",
    "elif( price<=50000):\n",
    "    print(\"Tax: 5%\")\n"
   ]
  },
  {
   "cell_type": "markdown",
   "id": "d7deaa40-16ea-41c2-bf38-bbf545c4bd41",
   "metadata": {},
   "source": [
    "Q3. Enter city from user and type monumnet in that city ?"
   ]
  },
  {
   "cell_type": "code",
   "execution_count": 18,
   "id": "f78c12d2-f816-43f0-ae6f-eafe15b37721",
   "metadata": {},
   "outputs": [
    {
     "name": "stdin",
     "output_type": "stream",
     "text": [
      "Enter a city delhi\n"
     ]
    },
    {
     "name": "stdout",
     "output_type": "stream",
     "text": [
      "Red Fort\n"
     ]
    }
   ],
   "source": [
    "#AAns 4\n",
    "\n",
    "city = input(\"Enter a city\")\n",
    "\n",
    "if city.upper() == \"DELHI\":\n",
    "\n",
    "   print(\"Red Fort\")\n",
    "\n",
    "elif city.upper() == \"AGRA\":\n",
    "\n",
    "   print(\"Taj Mahal\")\n",
    "\n",
    "elif city.upper() == \"JAIPUR\":\n",
    "\n",
    "   print(\"Jal Mahal\")\n",
    "\n",
    "else:\n",
    "\n",
    "   print(\"Invalid Entry\")"
   ]
  },
  {
   "cell_type": "markdown",
   "id": "d21ff640-ac6c-4289-b521-b0f916010142",
   "metadata": {},
   "source": [
    "Q4. How many times a number is divisible by 3 ?"
   ]
  },
  {
   "cell_type": "code",
   "execution_count": 44,
   "id": "75b67a2d-0445-47b8-ba5e-02f0b978e38d",
   "metadata": {},
   "outputs": [
    {
     "name": "stdin",
     "output_type": "stream",
     "text": [
      " Enter number  27\n"
     ]
    },
    {
     "name": "stdout",
     "output_type": "stream",
     "text": [
      "27\n",
      "27\n"
     ]
    }
   ],
   "source": [
    "n = int(input(\" Enter number \" , ))\n",
    "print(n)\n",
    "     \n",
    "if (n %3>= 0):\n",
    "    print(n)\n",
    "else:\n",
    "    print(\"Nuber not divisible\")"
   ]
  },
  {
   "cell_type": "markdown",
   "id": "b0098550-e9d0-400b-82aa-1389d709ee4b",
   "metadata": {},
   "source": [
    "Q5. When & why use While loop in python using detailed example ?"
   ]
  },
  {
   "cell_type": "markdown",
   "id": "7aac191b-0ee3-4dc3-b9bc-f8c1c1fa69a4",
   "metadata": {},
   "source": [
    "Ans 5. Python while loop is used to run a block code until a certain condition is met.\n",
    "\n",
    "The syntax of while loop is:\n",
    "    \n",
    "    Here,\n",
    "\n",
    "A while loop evaluates the condition\n",
    "If the condition evaluates to True, the code inside the while loop is executed.\n",
    "condition is evaluated again.\n",
    "This process continues until the condition is False.\n",
    "When condition evaluates to False, the loop stops."
   ]
  },
  {
   "cell_type": "code",
   "execution_count": 2,
   "id": "b00e945d-80b5-4b99-b3d8-cda62b91f2a8",
   "metadata": {},
   "outputs": [
    {
     "name": "stdout",
     "output_type": "stream",
     "text": [
      "1\n",
      "2\n",
      "3\n",
      "4\n",
      "5\n"
     ]
    }
   ],
   "source": [
    "#Example\n",
    "# program to calculate the sum of numbers\n",
    "# until the user enters zero\n",
    "\n",
    "# program to display numbers from 1 to 5\n",
    "\n",
    "# initialize the variable\n",
    "i = 1\n",
    "n = 5\n",
    "\n",
    "# while loop from i = 1 to 5\n",
    "while i <= n:\n",
    "    print(i)\n",
    "    i = i + 1\n"
   ]
  },
  {
   "cell_type": "markdown",
   "id": "53520162-95a0-4078-b701-5881321506c1",
   "metadata": {},
   "source": [
    "Q6. Use Nested loop to print 3 different pattern?\n"
   ]
  },
  {
   "cell_type": "code",
   "execution_count": 3,
   "id": "64703de9-b598-401c-8b7f-2b0ce04522db",
   "metadata": {},
   "outputs": [
    {
     "name": "stdout",
     "output_type": "stream",
     "text": [
      "1 \n",
      "1 2 \n",
      "1 2 3 \n",
      "1 2 3 4 \n",
      "1 2 3 4 5 \n"
     ]
    }
   ],
   "source": [
    "#Pyramid Pattern\n",
    "rows = 5\n",
    "for i in range(1, rows + 1):\n",
    "    for j in range(1, i + 1):\n",
    "        print(j, end=' ')\n",
    "    print('')"
   ]
  },
  {
   "cell_type": "code",
   "execution_count": 4,
   "id": "944f1a42-a1b8-47e8-bed6-4e0d4af2b4e4",
   "metadata": {},
   "outputs": [
    {
     "name": "stdout",
     "output_type": "stream",
     "text": [
      "          1 \n",
      "        1 2 \n",
      "      1 2 3 \n",
      "    1 2 3 4 \n",
      "  1 2 3 4 5 \n"
     ]
    }
   ],
   "source": [
    "#Triagle\n",
    "rows = 6\n",
    "for i in range(1, rows):\n",
    "    num = 1\n",
    "    for j in range(rows, 0, -1):\n",
    "        if j > i:\n",
    "            print(\" \", end=' ')\n",
    "        else:\n",
    "            print(num, end=' ')\n",
    "            num += 1\n",
    "    print(\"\")"
   ]
  },
  {
   "cell_type": "code",
   "execution_count": 6,
   "id": "3eb05e64-e171-4fef-b76e-a064baac914d",
   "metadata": {},
   "outputs": [
    {
     "name": "stdout",
     "output_type": "stream",
     "text": [
      "1 \n",
      "3 2 \n",
      "6 5 4 \n",
      "10 9 8 7 \n"
     ]
    }
   ],
   "source": [
    "#Reverse Numbe\n",
    "start = 1\n",
    "stop = 2\n",
    "current_num = stop\n",
    "for row in range(2, 6):\n",
    "    for col in range(start, stop):\n",
    "        current_num -= 1\n",
    "        print(current_num, end=' ')\n",
    "    print(\"\")\n",
    "    start = stop\n",
    "    stop += row\n",
    "    current_num = stop"
   ]
  },
  {
   "cell_type": "code",
   "execution_count": null,
   "id": "5131d14a-9b17-4fb4-9037-3cf2aa816154",
   "metadata": {},
   "outputs": [],
   "source": []
  }
 ],
 "metadata": {
  "kernelspec": {
   "display_name": "Python 3 (ipykernel)",
   "language": "python",
   "name": "python3"
  },
  "language_info": {
   "codemirror_mode": {
    "name": "ipython",
    "version": 3
   },
   "file_extension": ".py",
   "mimetype": "text/x-python",
   "name": "python",
   "nbconvert_exporter": "python",
   "pygments_lexer": "ipython3",
   "version": "3.10.8"
  }
 },
 "nbformat": 4,
 "nbformat_minor": 5
}
