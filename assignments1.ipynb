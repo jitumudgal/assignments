{
 "cells": [
  {
   "cell_type": "markdown",
   "id": "99e76b7b-bd14-4239-bb34-065bb57dfeb5",
   "metadata": {},
   "source": [
    "Q1. who developed python programming language ? \n",
    "Ans.Python was created by Guido van Rossum, and first released on February 20, 1991.\n",
    "\n",
    "Q2.what type of programming does python support ? \n",
    "Ans2 . Python is a high-level, general-purpose programming language. \n",
    "\n",
    "Python is dynamically typed and garbage-collected. It supports multiple programming paradigms, including structured (particularly procedural), object-oriented and functional programming.\n",
    "\n",
    "Q3.Is python case sensitive when dealing with identifiers ?\n",
    "Ans3 . Yes, Python is a case-sensitive language, i.e., it treats uppercase and lowercase characters differently. This applies to identifiers too .\n",
    "\n",
    "Q4. what is the correct extension of python file ?\n",
    "Ans 4. Python file extensions are .py . \n",
    "\n",
    "Q5. Is python code compiled or interpreted ?\n",
    "Ans 5. Python is an interpreted language, which means the source code of a Python program is converted into bytecode that is then executed by the Python virtual machine. \n",
    "\n",
    "Q6. Name a few blocks of code used to define in python language ?\n",
    "Ans6 . Indentation is used to define a block of code in python . Indentation is done with whitespace. All statements with the same right-hand distance belong to the same code block. If a block needs to be more nested, it is indented to the right. If indentation is not properly added, code will throw a compilation error. Indentation has to be properly added.\n",
    "\n",
    "Q7. state a character used to give single -line comment in python ?\n",
    "Ans 7 . Hash character(#) is used to comment the line in the Python program. Comments does not have to be text to explain the code, it can also be used to prevent Python from executing code.\n",
    "\n",
    "Q8. Mention function which can be used to find the version of python that we are currenlty working on ?\n",
    "Ans 8. The function sys.version can help us to find the version of python that we are currently working on.\n",
    "\n",
    "Q9. python supports the creation of anonymous functions at runtime, using a cconstruct called \n",
    "Ans 9 .lambda \n",
    "\n",
    "Q.10 . what does pip stand for python ? \n",
    "Ans 10. preferred installer program\n",
    "\n",
    "Q11. Mention few built in functions in python ?\n",
    "Ans 11. Python Built-in Functions are, print() , type( ) , input( ) ,len( ) ,sum( ) ,ord( ) , abs( ) ,pow( ) ,dir( ) ,sorted( ) , max( ) , round( ) , divmod( ) .\n",
    "\n",
    "Q12. what is the maximum possible length of an identifier in python ? \n",
    "Ans 12. An identifier can have a maximum length of 79 characters in Python .\n",
    "\n",
    "Q13.what are the benefits of using python ? \n",
    "Ans 13. Some benefits of Python : a. Large developer community. Python is one of the most popular programming languages in the world. b.Extensive libraries. Python offers a wide range of libraries that can be used across various applications.  c.Write less, do more. Python has very concise syntax. d.Portability.e. Wide range of use cases.\n",
    "\n",
    "Q14.how memory is managed in python ? \n",
    "Ans 14. Memory in Python is managed by Python private heap space. All Python objects and data structures are located in a private heap. This private heap is taken care of by Python Interpreter itself, and a programmer doesn't have access to this private heap.\n",
    "\n",
    "Q15. How to install python on windows and set path variable /\n",
    "Ans 15. To set Path Type “Python” in the Windows Search Bar.\n",
    "Right-click on the Python App, and then select “Open file location“\n",
    "Right-click again on the Python shortcut, and then select “Open file location. Path C:\\Users\\Ron\\AppData\\Local\\Programs\\Python\\Python39;C:\\Users\\.\n",
    "\n",
    "Q16. Is indentation required in python ?\n",
    "Ans 16. Indentation is mandatory in python to define the blocks of statements. It is preferred to use whitespaces instead of tabs to indent in python. Python uses four spaces as default indentation spaces ."
   ]
  }
 ],
 "metadata": {
  "kernelspec": {
   "display_name": "Python 3 (ipykernel)",
   "language": "python",
   "name": "python3"
  },
  "language_info": {
   "codemirror_mode": {
    "name": "ipython",
    "version": 3
   },
   "file_extension": ".py",
   "mimetype": "text/x-python",
   "name": "python",
   "nbconvert_exporter": "python",
   "pygments_lexer": "ipython3",
   "version": "3.10.8"
  }
 },
 "nbformat": 4,
 "nbformat_minor": 5
}
