{
 "cells": [
  {
   "cell_type": "markdown",
   "id": "0bf70dc9-e825-4343-9469-fa58ac805669",
   "metadata": {},
   "source": [
    "Q1. Explain with an example each when to use a for loop and a while loop. \n",
    "Ans 1 . For loop: A for loop is a control flow statement that executes code repeatedly for a particular number of iterations. In this control flow statement, the keyword used is for. The for loop is used when the number of iterations is already known\n",
    "\n"
   ]
  },
  {
   "cell_type": "code",
   "execution_count": 4,
   "id": "88867273-41ab-41f1-8623-2c5bae385064",
   "metadata": {},
   "outputs": [
    {
     "name": "stdout",
     "output_type": "stream",
     "text": [
      "1\n",
      "2\n",
      "3\n"
     ]
    }
   ],
   "source": [
    "n = [1,2,3]\n",
    "for i in n :\n",
    "    print(i)"
   ]
  },
  {
   "cell_type": "markdown",
   "id": "fb1d0efa-5a11-41d1-8d78-871fb67e873a",
   "metadata": {},
   "source": [
    "While Loop  :  A loop that executes a single statement or a group of statements for the given true condition. "
   ]
  },
  {
   "cell_type": "code",
   "execution_count": null,
   "id": "2be83e1a-8216-4c36-83f7-3fd32706a1d1",
   "metadata": {},
   "outputs": [
    {
     "name": "stdout",
     "output_type": "stream",
     "text": [
      "1\n",
      "2\n",
      "3\n",
      "4\n",
      "5\n"
     ]
    }
   ],
   "source": [
    "i = 1  \n",
    "while i < 6:  \n",
    "    print(i)\n",
    "    i += 1  \n"
   ]
  },
  {
   "cell_type": "markdown",
   "id": "106ff094-567c-4111-87de-21b17baf1761",
   "metadata": {},
   "source": [
    "Q2 . Write a python program to print the sum and product of the first 10 natural numbers using for\n",
    "and while loop."
   ]
  },
  {
   "cell_type": "code",
   "execution_count": 30,
   "id": "03125728-78a8-45e0-8d6a-f6670bc8aa36",
   "metadata": {},
   "outputs": [
    {
     "name": "stdout",
     "output_type": "stream",
     "text": [
      "The sum of first 10 natural number is   55\n"
     ]
    }
   ],
   "source": [
    "#For Loop \n",
    "sum = 0\n",
    "for i in range(1,11) :\n",
    "    sum=sum+i\n",
    "print(\"The sum of first 10 natural number is  \", sum)"
   ]
  },
  {
   "cell_type": "code",
   "execution_count": 29,
   "id": "75dfc8bd-bfb1-48a0-ae2c-ffb7afb3c61e",
   "metadata": {},
   "outputs": [
    {
     "name": "stdout",
     "output_type": "stream",
     "text": [
      " The Product of First 10 Natural number is 3628800\n"
     ]
    }
   ],
   "source": [
    "p = 1\n",
    "for i in range(1,11) :\n",
    "     p = p*i\n",
    "print(\" The Product of First 10 Natural number is\" ,p)"
   ]
  },
  {
   "cell_type": "code",
   "execution_count": 36,
   "id": "bd3416e0-0aed-48ce-ba1e-2096f391d53c",
   "metadata": {},
   "outputs": [
    {
     "name": "stdout",
     "output_type": "stream",
     "text": [
      "The sum of first natural number is   55\n"
     ]
    }
   ],
   "source": [
    "#While Loop \n",
    "num = 10\n",
    "sum = 0\n",
    "while num > 0 :\n",
    "    sum = sum + num\n",
    "    num= num - 1\n",
    "print(\"The sum of first natural number is  \", sum)"
   ]
  },
  {
   "cell_type": "code",
   "execution_count": 1,
   "id": "51a48cc3-f582-43cd-b10c-165e79eef19d",
   "metadata": {},
   "outputs": [
    {
     "name": "stdout",
     "output_type": "stream",
     "text": [
      "The product of first 10 natural number is  3628800\n"
     ]
    }
   ],
   "source": [
    "num = 10\n",
    "Product = 1\n",
    "while num > 1 :\n",
    "    Product = Product*num\n",
    "    num = num - 1 \n",
    "print(\"The product of first 10 natural number is \", Product)"
   ]
  },
  {
   "cell_type": "markdown",
   "id": "d8e56c07-f95d-433f-b2ad-52dd75df5d48",
   "metadata": {},
   "source": [
    "Q4 . Create a list of numbers from 1 to 100. Use for loop and while loop to calculate the cube of each\n",
    "number and if the cube of that number is divisible by 4 or 5 then append that number in a list and print\n",
    "that list."
   ]
  },
  {
   "cell_type": "code",
   "execution_count": 16,
   "id": "624e2ade-2a83-41be-bbd0-78601ac02801",
   "metadata": {},
   "outputs": [
    {
     "name": "stdout",
     "output_type": "stream",
     "text": [
      "[1, 8, 27, 64, 125, 216, 343, 512, 729, 1000, 1331, 1728, 2197, 2744, 3375, 4096, 4913, 5832, 6859, 8000, 9261, 10648, 12167, 13824, 15625, 17576, 19683, 21952, 24389, 27000, 29791, 32768, 35937, 39304, 42875, 46656, 50653, 54872, 59319, 64000, 68921, 74088, 79507, 85184, 91125, 97336, 103823, 110592, 117649, 125000, 132651, 140608, 148877, 157464, 166375, 175616, 185193, 195112, 205379, 216000, 226981, 238328, 250047, 262144, 274625, 287496, 300763, 314432, 328509, 343000, 357911, 373248, 389017, 405224, 421875, 438976, 456533, 474552, 493039, 512000, 531441, 551368, 571787, 592704, 614125, 636056, 658503, 681472, 704969, 729000, 753571, 778688, 804357, 830584, 857375, 884736, 912673, 941192, 970299, 1000000]\n"
     ]
    }
   ],
   "source": [
    "#Ans 4\n",
    "cube = []\n",
    "    \n",
    "#Cube List using loop\n",
    "for i in range(1, 101) :\n",
    "    cube.append(i*i*i)\n",
    "# printing result\n",
    "if((i%3==0) & (i%5==0)):\n",
    "    cube.append(i)\n",
    "else:\n",
    "    print(cube)"
   ]
  },
  {
   "cell_type": "markdown",
   "id": "8427d479-a6fd-44e8-9f5f-bbaadde9d995",
   "metadata": {},
   "source": [
    "Q5. Write a program to filter count vowels in the below-given string.\n",
    "string = \"I want to become a data scientist\""
   ]
  },
  {
   "cell_type": "code",
   "execution_count": 17,
   "id": "919db2e5-1a22-4a9f-9131-59be65796504",
   "metadata": {},
   "outputs": [
    {
     "name": "stdout",
     "output_type": "stream",
     "text": [
      "12\n",
      "['I', 'a', 'o', 'e', 'o', 'e', 'a', 'a', 'a', 'i', 'e', 'i']\n"
     ]
    }
   ],
   "source": [
    "#Ans 5 : \n",
    "    \n",
    "def Check_Vow(string, vowels):\n",
    "    final = [each for each in string if each in vowels]\n",
    "    print(len(final))\n",
    "    print(final)\n",
    "     \n",
    "# Driver Code\n",
    "string = \"I want to become a data scientist\"\n",
    "vowels = \"AaEeIiOoUu\"\n",
    "Check_Vow(string, vowels)"
   ]
  },
  {
   "cell_type": "code",
   "execution_count": null,
   "id": "d500e638-8804-4fbe-98af-959df0d8339e",
   "metadata": {},
   "outputs": [],
   "source": []
  },
  {
   "cell_type": "code",
   "execution_count": null,
   "id": "276bad99-b693-4fef-a7e6-ebb2f8be9d71",
   "metadata": {},
   "outputs": [],
   "source": []
  },
  {
   "cell_type": "code",
   "execution_count": null,
   "id": "b37ff055-a51d-4261-9803-175c32800045",
   "metadata": {},
   "outputs": [],
   "source": []
  },
  {
   "cell_type": "code",
   "execution_count": null,
   "id": "c45a9975-b2d1-426f-ae3d-d9a0b0d491e2",
   "metadata": {},
   "outputs": [],
   "source": []
  },
  {
   "cell_type": "code",
   "execution_count": null,
   "id": "c45dd728-32be-40f3-8069-1a47b3fb523f",
   "metadata": {},
   "outputs": [],
   "source": []
  },
  {
   "cell_type": "code",
   "execution_count": null,
   "id": "744e132e-63fc-423f-8f5d-64d731a8e37f",
   "metadata": {},
   "outputs": [],
   "source": []
  },
  {
   "cell_type": "code",
   "execution_count": null,
   "id": "d889fc79-78a1-4d57-a0b8-77cc00849d07",
   "metadata": {},
   "outputs": [],
   "source": []
  },
  {
   "cell_type": "code",
   "execution_count": null,
   "id": "c5e8d72d-69c2-40dd-a942-2d23ecfc3cc3",
   "metadata": {},
   "outputs": [],
   "source": []
  },
  {
   "cell_type": "code",
   "execution_count": null,
   "id": "074de789-622d-4fbe-ad26-e6bcafea6d3d",
   "metadata": {},
   "outputs": [],
   "source": []
  },
  {
   "cell_type": "code",
   "execution_count": null,
   "id": "1ad18b25-57aa-44f0-9dad-ad829ce9a1f2",
   "metadata": {},
   "outputs": [],
   "source": []
  },
  {
   "cell_type": "code",
   "execution_count": null,
   "id": "f972a7e8-c2c1-4acd-b95d-8c59861b7cab",
   "metadata": {},
   "outputs": [],
   "source": []
  },
  {
   "cell_type": "code",
   "execution_count": null,
   "id": "acf15cce-5d68-4e46-94ec-f938df5078e9",
   "metadata": {},
   "outputs": [],
   "source": []
  },
  {
   "cell_type": "code",
   "execution_count": null,
   "id": "7a1b4981-f1e3-4b59-8f69-ed4f2982123c",
   "metadata": {},
   "outputs": [],
   "source": []
  },
  {
   "cell_type": "markdown",
   "id": "3bb62a6b-8b41-4669-8864-a83d29397445",
   "metadata": {},
   "source": [
    "Q4. Create a python program to compute the electricity bill for a household.\n",
    "The per-unit charges in rupees are as follows: For the first 100 units, the user will be charged Rs. 4.5 per\n",
    "unit, for the next 100 units, the user will be charged Rs. 6 per unit, and for the next 100 units, the user will\n",
    "be charged Rs. 10 per unit, After 300 units and above the user will be charged Rs. 20 per unit.\n",
    "You are required to take the units of electricity consumed in a month from the user as input."
   ]
  },
  {
   "cell_type": "code",
   "execution_count": 2,
   "id": "06f3714e-8f81-4142-bba3-8e5cd62667d9",
   "metadata": {},
   "outputs": [
    {
     "name": "stdin",
     "output_type": "stream",
     "text": [
      "Enter your unit:  310\n"
     ]
    },
    {
     "name": "stdout",
     "output_type": "stream",
     "text": [
      "Bill Per Unit: 2250\n"
     ]
    }
   ],
   "source": [
    "#Ans 4\n",
    "unit = int(input(\"Enter your unit: \"))\n",
    "if unit <= 100:\n",
    "    bill = unit * 4.5\n",
    "elif unit >= 101 and unit <= 200:\n",
    "    bill = 450 + ((unit - 100) * 6)\n",
    "elif unit >= 201 and unit <= 300:\n",
    "    bill = 456 + 600 + ((unit - 100) * 10)\n",
    "else:\n",
    "    bill = 450 + 600 + 1000 + ((unit - 300) * 20)\n",
    "print(\"Bill Per Unit:\",bill)"
   ]
  },
  {
   "cell_type": "code",
   "execution_count": null,
   "id": "c2c04ad2-52f8-4456-ab64-83dedfd06e89",
   "metadata": {},
   "outputs": [],
   "source": []
  },
  {
   "cell_type": "code",
   "execution_count": null,
   "id": "483932e4-4fb8-4011-b714-986b688382e5",
   "metadata": {},
   "outputs": [],
   "source": []
  },
  {
   "cell_type": "code",
   "execution_count": null,
   "id": "116d5465-ed9b-4957-b238-3232a779472d",
   "metadata": {},
   "outputs": [],
   "source": []
  },
  {
   "cell_type": "code",
   "execution_count": null,
   "id": "79b648bb-25a8-47f4-b8bd-cdc863726914",
   "metadata": {},
   "outputs": [],
   "source": []
  },
  {
   "cell_type": "code",
   "execution_count": null,
   "id": "29e07f01-3f99-4258-b963-54ac07deb152",
   "metadata": {},
   "outputs": [],
   "source": []
  },
  {
   "cell_type": "code",
   "execution_count": null,
   "id": "4d78937b-28ad-46bd-acd5-a055b5eaf8df",
   "metadata": {},
   "outputs": [],
   "source": []
  },
  {
   "cell_type": "code",
   "execution_count": null,
   "id": "252d023b-5f6a-4b94-8f7c-5a0017659fd2",
   "metadata": {},
   "outputs": [],
   "source": []
  },
  {
   "cell_type": "code",
   "execution_count": null,
   "id": "c3d41d3f-8a23-43d6-a346-089740a78538",
   "metadata": {},
   "outputs": [],
   "source": []
  },
  {
   "cell_type": "code",
   "execution_count": null,
   "id": "4e3d8c8b-bd6f-417d-ac5e-d6000c4a5a3e",
   "metadata": {},
   "outputs": [],
   "source": []
  },
  {
   "cell_type": "code",
   "execution_count": null,
   "id": "4f7d11eb-c5c0-4ffa-9e50-f656f4264eb9",
   "metadata": {},
   "outputs": [],
   "source": []
  },
  {
   "cell_type": "code",
   "execution_count": null,
   "id": "a7a3ced9-c716-4d4e-88f7-dd46f1552edc",
   "metadata": {},
   "outputs": [],
   "source": []
  },
  {
   "cell_type": "code",
   "execution_count": null,
   "id": "3d5fecd3-1206-4a2a-b95f-22650bda14c5",
   "metadata": {},
   "outputs": [],
   "source": []
  },
  {
   "cell_type": "code",
   "execution_count": null,
   "id": "2ee1b0b6-4d08-4069-9d36-c4bed452a5bd",
   "metadata": {},
   "outputs": [],
   "source": []
  },
  {
   "cell_type": "code",
   "execution_count": null,
   "id": "a71d4e3d-2c4f-479d-9bcf-7f10209cd624",
   "metadata": {},
   "outputs": [],
   "source": []
  },
  {
   "cell_type": "code",
   "execution_count": null,
   "id": "91c733e7-fda7-483d-8fcb-9b60a6e2fa1c",
   "metadata": {},
   "outputs": [],
   "source": []
  },
  {
   "cell_type": "code",
   "execution_count": null,
   "id": "17ff5820-d279-41b9-8582-65c2570fffd7",
   "metadata": {},
   "outputs": [],
   "source": []
  },
  {
   "cell_type": "code",
   "execution_count": null,
   "id": "ba383b1d-356d-477a-b103-f1d343721390",
   "metadata": {},
   "outputs": [],
   "source": []
  },
  {
   "cell_type": "code",
   "execution_count": null,
   "id": "96e1af39-b4e5-41ae-a80d-7131a0d8ca99",
   "metadata": {},
   "outputs": [],
   "source": []
  },
  {
   "cell_type": "code",
   "execution_count": null,
   "id": "90268486-18fe-4977-8b2c-cf69a89a32c6",
   "metadata": {},
   "outputs": [],
   "source": []
  },
  {
   "cell_type": "code",
   "execution_count": null,
   "id": "3ec3e439-6709-4e2c-acf3-8e615ed56a6d",
   "metadata": {},
   "outputs": [],
   "source": []
  },
  {
   "cell_type": "code",
   "execution_count": null,
   "id": "83b52908-d695-4a60-b317-45e69ad5a269",
   "metadata": {},
   "outputs": [],
   "source": []
  },
  {
   "cell_type": "code",
   "execution_count": null,
   "id": "74e21595-7083-4d23-b78d-942548a6831f",
   "metadata": {},
   "outputs": [],
   "source": []
  },
  {
   "cell_type": "code",
   "execution_count": null,
   "id": "70388165-74c8-4568-8aa5-c89c38044adb",
   "metadata": {},
   "outputs": [],
   "source": []
  },
  {
   "cell_type": "code",
   "execution_count": null,
   "id": "73e0904a-5205-4eb6-8f54-716b80dfb0ff",
   "metadata": {},
   "outputs": [],
   "source": []
  },
  {
   "cell_type": "code",
   "execution_count": null,
   "id": "9bfc639a-2526-4f80-b48b-106f360f493f",
   "metadata": {},
   "outputs": [],
   "source": []
  },
  {
   "cell_type": "code",
   "execution_count": null,
   "id": "522e60d3-45a5-47ea-8250-840604685962",
   "metadata": {},
   "outputs": [],
   "source": []
  },
  {
   "cell_type": "code",
   "execution_count": null,
   "id": "167e5af1-6455-4db4-9b68-82226cd47ecd",
   "metadata": {},
   "outputs": [],
   "source": []
  },
  {
   "cell_type": "code",
   "execution_count": null,
   "id": "14a2808c-a37c-4cf4-9f62-7c00e6ffe307",
   "metadata": {},
   "outputs": [],
   "source": []
  },
  {
   "cell_type": "code",
   "execution_count": null,
   "id": "025f3e23-45cc-4712-b2ff-7ce115582af2",
   "metadata": {},
   "outputs": [],
   "source": []
  },
  {
   "cell_type": "code",
   "execution_count": null,
   "id": "f09ad29b-b470-49f3-a6e3-4aa985560194",
   "metadata": {},
   "outputs": [],
   "source": []
  },
  {
   "cell_type": "code",
   "execution_count": null,
   "id": "a5934ee8-611c-4898-a717-7e446fedbce0",
   "metadata": {},
   "outputs": [],
   "source": []
  },
  {
   "cell_type": "code",
   "execution_count": null,
   "id": "181edff0-adaa-403e-920b-341d7919254f",
   "metadata": {},
   "outputs": [],
   "source": []
  },
  {
   "cell_type": "code",
   "execution_count": 21,
   "id": "74791a66-5dd7-4bd9-8d06-030b8e6c0540",
   "metadata": {},
   "outputs": [
    {
     "name": "stdout",
     "output_type": "stream",
     "text": [
      "5050\n"
     ]
    }
   ],
   "source": []
  },
  {
   "cell_type": "code",
   "execution_count": null,
   "id": "0a9b6768-46a8-4be0-ba9a-26362f1c724d",
   "metadata": {},
   "outputs": [],
   "source": []
  },
  {
   "cell_type": "code",
   "execution_count": null,
   "id": "8b0d1a30-6483-4293-94ad-298f1287a9c6",
   "metadata": {},
   "outputs": [],
   "source": []
  },
  {
   "cell_type": "code",
   "execution_count": null,
   "id": "8a5864ff-cfd2-431a-8a08-2cb5beec438e",
   "metadata": {},
   "outputs": [],
   "source": []
  },
  {
   "cell_type": "code",
   "execution_count": null,
   "id": "a0af04f2-412b-4e3a-b6c6-2681486ea121",
   "metadata": {},
   "outputs": [],
   "source": []
  },
  {
   "cell_type": "code",
   "execution_count": null,
   "id": "fe15f72d-ec73-473b-9633-2463dfa38b21",
   "metadata": {},
   "outputs": [],
   "source": []
  },
  {
   "cell_type": "code",
   "execution_count": 15,
   "id": "7aedde40-2f0c-426e-9602-9196c66df225",
   "metadata": {},
   "outputs": [
    {
     "name": "stdout",
     "output_type": "stream",
     "text": [
      "55\n"
     ]
    }
   ],
   "source": [
    "sum = 0 \n",
    "for i in range(1, 11): \n",
    "  sum += i \n",
    "print(sum)"
   ]
  },
  {
   "cell_type": "code",
   "execution_count": null,
   "id": "c514e28e-5dd5-4690-871a-5a6f279d60f4",
   "metadata": {},
   "outputs": [],
   "source": []
  },
  {
   "cell_type": "code",
   "execution_count": null,
   "id": "f384ba9b-90cf-420d-ba0b-af54ef5b9105",
   "metadata": {},
   "outputs": [],
   "source": []
  },
  {
   "cell_type": "code",
   "execution_count": null,
   "id": "99a2f3ef-84d4-493d-8eb1-faebc0beccde",
   "metadata": {},
   "outputs": [],
   "source": []
  },
  {
   "cell_type": "code",
   "execution_count": null,
   "id": "eaec5514-0e89-4c9c-8c21-fb43c039e5c1",
   "metadata": {},
   "outputs": [],
   "source": []
  },
  {
   "cell_type": "code",
   "execution_count": null,
   "id": "670c8867-836c-4a4f-b325-3a783dde8bf2",
   "metadata": {},
   "outputs": [],
   "source": []
  },
  {
   "cell_type": "code",
   "execution_count": null,
   "id": "dc9e5136-2d7a-4d41-b6d8-11510087dbc1",
   "metadata": {},
   "outputs": [],
   "source": []
  },
  {
   "cell_type": "code",
   "execution_count": null,
   "id": "341f2125-133a-48b8-bcbe-8da62d8cc303",
   "metadata": {},
   "outputs": [],
   "source": []
  },
  {
   "cell_type": "code",
   "execution_count": null,
   "id": "aa8ec3b2-2073-44d1-a791-8db9ab9975e8",
   "metadata": {},
   "outputs": [],
   "source": []
  }
 ],
 "metadata": {
  "kernelspec": {
   "display_name": "Python 3 (ipykernel)",
   "language": "python",
   "name": "python3"
  },
  "language_info": {
   "codemirror_mode": {
    "name": "ipython",
    "version": 3
   },
   "file_extension": ".py",
   "mimetype": "text/x-python",
   "name": "python",
   "nbconvert_exporter": "python",
   "pygments_lexer": "ipython3",
   "version": "3.10.8"
  }
 },
 "nbformat": 4,
 "nbformat_minor": 5
}
