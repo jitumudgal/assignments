{
 "cells": [
  {
   "cell_type": "code",
   "execution_count": 5,
   "id": "87c2cf36-14f4-464c-9c08-c07d368cfe04",
   "metadata": {},
   "outputs": [],
   "source": [
    "d={}"
   ]
  },
  {
   "cell_type": "code",
   "execution_count": 6,
   "id": "e8db163a-37db-4be1-b1d8-9435392c2c1b",
   "metadata": {},
   "outputs": [
    {
     "data": {
      "text/plain": [
       "dict"
      ]
     },
     "execution_count": 6,
     "metadata": {},
     "output_type": "execute_result"
    }
   ],
   "source": [
    "type(d)"
   ]
  },
  {
   "cell_type": "code",
   "execution_count": 7,
   "id": "44015e48-22b0-48a3-942a-2e3c285fd422",
   "metadata": {},
   "outputs": [],
   "source": [
    "d1 = {'key' :\"jitu\"}"
   ]
  },
  {
   "cell_type": "code",
   "execution_count": 8,
   "id": "73da3a16-928b-4dc6-b11f-33b6fb61173f",
   "metadata": {},
   "outputs": [
    {
     "data": {
      "text/plain": [
       "{'key': 'jitu'}"
      ]
     },
     "execution_count": 8,
     "metadata": {},
     "output_type": "execute_result"
    }
   ],
   "source": [
    "d1"
   ]
  },
  {
   "cell_type": "code",
   "execution_count": 9,
   "id": "8dd98e3c-f0ff-4bf6-9e5d-6bf713fd1dee",
   "metadata": {},
   "outputs": [],
   "source": [
    "d2 = {'name' : \"jitender\" , 'email' : \" jm@gmail.com\" , 'number' : 34567889}"
   ]
  },
  {
   "cell_type": "code",
   "execution_count": 10,
   "id": "6c721218-79e7-4d31-b425-32ed8af1991f",
   "metadata": {},
   "outputs": [
    {
     "data": {
      "text/plain": [
       "{'name': 'jitender', 'email': ' jm@gmail.com', 'number': 34567889}"
      ]
     },
     "execution_count": 10,
     "metadata": {},
     "output_type": "execute_result"
    }
   ],
   "source": [
    "d2"
   ]
  },
  {
   "cell_type": "code",
   "execution_count": 15,
   "id": "24257c00-6ef8-441b-a0cf-9be9ca6b4dd7",
   "metadata": {},
   "outputs": [],
   "source": [
    "d3 = {234 : \"jitu\", '_wer' : \"mudgl\", True : 2345}"
   ]
  },
  {
   "cell_type": "code",
   "execution_count": 16,
   "id": "8c251ad9-361e-4d77-be15-9ad8552a5e88",
   "metadata": {},
   "outputs": [
    {
     "data": {
      "text/plain": [
       "{234: 'jitu', '_wer': 'mudgl', True: 2345}"
      ]
     },
     "execution_count": 16,
     "metadata": {},
     "output_type": "execute_result"
    }
   ],
   "source": [
    "d3"
   ]
  },
  {
   "cell_type": "code",
   "execution_count": 18,
   "id": "4b34a4f5-cdee-4de3-9afb-ccb70a249af8",
   "metadata": {},
   "outputs": [
    {
     "data": {
      "text/plain": [
       "'jitu'"
      ]
     },
     "execution_count": 18,
     "metadata": {},
     "output_type": "execute_result"
    }
   ],
   "source": [
    "d3[234]"
   ]
  },
  {
   "cell_type": "code",
   "execution_count": 19,
   "id": "fabd00ab-74f7-4ef7-9529-11691299b1d0",
   "metadata": {},
   "outputs": [
    {
     "data": {
      "text/plain": [
       "2345"
      ]
     },
     "execution_count": 19,
     "metadata": {},
     "output_type": "execute_result"
    }
   ],
   "source": [
    "d3[1]"
   ]
  },
  {
   "cell_type": "code",
   "execution_count": 20,
   "id": "6f1d354f-932f-48c3-b382-25a2a8d316cc",
   "metadata": {},
   "outputs": [],
   "source": [
    "d4= {'name' : \"jitu\" , 'maild_id' : \"jm@gmail.com\", \"name\" : \"Jitender\"}"
   ]
  },
  {
   "cell_type": "code",
   "execution_count": 21,
   "id": "2eb13d15-151d-483a-8255-25a5c0373bc9",
   "metadata": {},
   "outputs": [
    {
     "data": {
      "text/plain": [
       "'Jitender'"
      ]
     },
     "execution_count": 21,
     "metadata": {},
     "output_type": "execute_result"
    }
   ],
   "source": [
    "d4['name']"
   ]
  },
  {
   "cell_type": "code",
   "execution_count": 24,
   "id": "a13e2635-a94d-485a-853b-5ff2298a4a12",
   "metadata": {},
   "outputs": [],
   "source": [
    "d5 ={\"company\":\"pwskills\",\"course\" :[\"web dev\",\"data science\", \"java with dsa system\"]}"
   ]
  },
  {
   "cell_type": "code",
   "execution_count": 25,
   "id": "866c5f83-de98-45d0-8267-7bd338e5eabb",
   "metadata": {},
   "outputs": [
    {
     "data": {
      "text/plain": [
       "{'company': 'pwskills',\n",
       " 'course': ['web dev', 'data science', 'java with dsa system']}"
      ]
     },
     "execution_count": 25,
     "metadata": {},
     "output_type": "execute_result"
    }
   ],
   "source": [
    "d5"
   ]
  },
  {
   "cell_type": "code",
   "execution_count": 26,
   "id": "e9c1dd17-7629-4381-aa9c-6646f51f7859",
   "metadata": {},
   "outputs": [
    {
     "data": {
      "text/plain": [
       "['web dev', 'data science', 'java with dsa system']"
      ]
     },
     "execution_count": 26,
     "metadata": {},
     "output_type": "execute_result"
    }
   ],
   "source": [
    "d5['course']"
   ]
  },
  {
   "cell_type": "code",
   "execution_count": 27,
   "id": "e2ac7711-0f80-4466-b471-e0f0dba4e373",
   "metadata": {},
   "outputs": [
    {
     "data": {
      "text/plain": [
       "'java with dsa system'"
      ]
     },
     "execution_count": 27,
     "metadata": {},
     "output_type": "execute_result"
    }
   ],
   "source": [
    "d5['course'][2]"
   ]
  },
  {
   "cell_type": "code",
   "execution_count": 29,
   "id": "e43b43b5-1aa9-41f2-94ae-f81a0a933d7e",
   "metadata": {},
   "outputs": [],
   "source": [
    "d6= {\"number\" : [2,34,3,34,34],\"assignment\" :(1,2,3,4,5,6), \"launch_date\" : {28,12,14}, \"class_time\":{\"web_dev\": 8 , \"data science\" : 8, \"java with dsa\":8}}"
   ]
  },
  {
   "cell_type": "code",
   "execution_count": 30,
   "id": "e456dc50-70d4-4d02-ae20-5857518f3a8a",
   "metadata": {},
   "outputs": [
    {
     "data": {
      "text/plain": [
       "{'number': [2, 34, 3, 34, 34],\n",
       " 'assignment': (1, 2, 3, 4, 5, 6),\n",
       " 'launch_date': {12, 14, 28},\n",
       " 'class_time': {'web_dev': 8, 'data science': 8, 'java with dsa': 8}}"
      ]
     },
     "execution_count": 30,
     "metadata": {},
     "output_type": "execute_result"
    }
   ],
   "source": [
    "d6"
   ]
  },
  {
   "cell_type": "code",
   "execution_count": 32,
   "id": "ea5751d3-41a1-4a97-88a1-7927855bceec",
   "metadata": {},
   "outputs": [
    {
     "data": {
      "text/plain": [
       "8"
      ]
     },
     "execution_count": 32,
     "metadata": {},
     "output_type": "execute_result"
    }
   ],
   "source": [
    "d6[\"class_time\"]['java with dsa']"
   ]
  },
  {
   "cell_type": "code",
   "execution_count": 33,
   "id": "3b8ba86c-6b39-45d4-a619-5f4d0a9d5c36",
   "metadata": {},
   "outputs": [
    {
     "data": {
      "text/plain": [
       "{'number': [2, 34, 3, 34, 34],\n",
       " 'assignment': (1, 2, 3, 4, 5, 6),\n",
       " 'launch_date': {12, 14, 28},\n",
       " 'class_time': {'web_dev': 8, 'data science': 8, 'java with dsa': 8}}"
      ]
     },
     "execution_count": 33,
     "metadata": {},
     "output_type": "execute_result"
    }
   ],
   "source": [
    "d6"
   ]
  },
  {
   "cell_type": "code",
   "execution_count": 36,
   "id": "f9717f41-6da3-4fed-86e4-2c5ce275ac49",
   "metadata": {},
   "outputs": [],
   "source": [
    "d6['mentor']=[\"sudhanshu\", \"krish\",\"anurag\"]"
   ]
  },
  {
   "cell_type": "code",
   "execution_count": 37,
   "id": "e4f21a27-b422-4093-b78c-5dad334d4b57",
   "metadata": {},
   "outputs": [
    {
     "data": {
      "text/plain": [
       "{'number': [2, 34, 3, 34, 34],\n",
       " 'assignment': (1, 2, 3, 4, 5, 6),\n",
       " 'launch_date': {12, 14, 28},\n",
       " 'class_time': {'web_dev': 8, 'data science': 8, 'java with dsa': 8},\n",
       " 'mentor': ['sudhanshu', 'krish', 'anurag']}"
      ]
     },
     "execution_count": 37,
     "metadata": {},
     "output_type": "execute_result"
    }
   ],
   "source": [
    "d6"
   ]
  },
  {
   "cell_type": "code",
   "execution_count": 38,
   "id": "1559fcae-7da6-4642-ae67-1e0acc859991",
   "metadata": {},
   "outputs": [],
   "source": [
    "del d6['number']"
   ]
  },
  {
   "cell_type": "code",
   "execution_count": 39,
   "id": "071bab90-4868-41e1-8cdc-98375cb7734d",
   "metadata": {},
   "outputs": [
    {
     "data": {
      "text/plain": [
       "{'assignment': (1, 2, 3, 4, 5, 6),\n",
       " 'launch_date': {12, 14, 28},\n",
       " 'class_time': {'web_dev': 8, 'data science': 8, 'java with dsa': 8},\n",
       " 'mentor': ['sudhanshu', 'krish', 'anurag']}"
      ]
     },
     "execution_count": 39,
     "metadata": {},
     "output_type": "execute_result"
    }
   ],
   "source": [
    "d6"
   ]
  },
  {
   "cell_type": "code",
   "execution_count": 41,
   "id": "ec28392d-6440-4a96-8376-098a8a72eba5",
   "metadata": {},
   "outputs": [
    {
     "data": {
      "text/plain": [
       "['assignment', 'launch_date', 'class_time', 'mentor']"
      ]
     },
     "execution_count": 41,
     "metadata": {},
     "output_type": "execute_result"
    }
   ],
   "source": [
    "list(d6.keys())"
   ]
  },
  {
   "cell_type": "code",
   "execution_count": 43,
   "id": "7676dcb1-07ab-4ec1-b5ab-eff077b37e10",
   "metadata": {},
   "outputs": [
    {
     "data": {
      "text/plain": [
       "[(1, 2, 3, 4, 5, 6),\n",
       " {12, 14, 28},\n",
       " {'web_dev': 8, 'data science': 8, 'java with dsa': 8},\n",
       " ['sudhanshu', 'krish', 'anurag']]"
      ]
     },
     "execution_count": 43,
     "metadata": {},
     "output_type": "execute_result"
    }
   ],
   "source": [
    "list(d6.values())"
   ]
  },
  {
   "cell_type": "code",
   "execution_count": 46,
   "id": "505459dd-23b9-4d14-9043-6d2be4d8c98d",
   "metadata": {},
   "outputs": [
    {
     "data": {
      "text/plain": [
       "[('assignment', (1, 2, 3, 4, 5, 6)),\n",
       " ('launch_date', {12, 14, 28}),\n",
       " ('class_time', {'web_dev': 8, 'data science': 8, 'java with dsa': 8}),\n",
       " ('mentor', ['sudhanshu', 'krish', 'anurag'])]"
      ]
     },
     "execution_count": 46,
     "metadata": {},
     "output_type": "execute_result"
    }
   ],
   "source": [
    "list(d6.items())"
   ]
  },
  {
   "cell_type": "code",
   "execution_count": 51,
   "id": "c9499c33-efe0-432e-8684-3bd0bbc9c957",
   "metadata": {},
   "outputs": [
    {
     "ename": "SyntaxError",
     "evalue": "invalid syntax (744170142.py, line 1)",
     "output_type": "error",
     "traceback": [
      "\u001b[0;36m  Cell \u001b[0;32mIn[51], line 1\u001b[0;36m\u001b[0m\n\u001b[0;31m    d6.(['number'] =[2,3,4,5])\u001b[0m\n\u001b[0m       ^\u001b[0m\n\u001b[0;31mSyntaxError\u001b[0m\u001b[0;31m:\u001b[0m invalid syntax\n"
     ]
    }
   ],
   "source": [
    "d6.(['number'] =[2,3,4,5])"
   ]
  },
  {
   "cell_type": "code",
   "execution_count": 52,
   "id": "24326310-1ab6-4f24-9408-93dc19d2b9b9",
   "metadata": {},
   "outputs": [],
   "source": [
    "d6['numbeer'] = [2,3,4,5]"
   ]
  },
  {
   "cell_type": "code",
   "execution_count": 53,
   "id": "bda91395-5643-4d45-a8e9-e56d3a9e4e68",
   "metadata": {},
   "outputs": [
    {
     "data": {
      "text/plain": [
       "{'assignment': (1, 2, 3, 4, 5, 6),\n",
       " 'launch_date': {12, 14, 28},\n",
       " 'class_time': {'web_dev': 8, 'data science': 8, 'java with dsa': 8},\n",
       " 'mentor': ['sudhanshu', 'krish', 'anurag'],\n",
       " 'numbeer': [2, 3, 4, 5]}"
      ]
     },
     "execution_count": 53,
     "metadata": {},
     "output_type": "execute_result"
    }
   ],
   "source": [
    "d6"
   ]
  },
  {
   "cell_type": "code",
   "execution_count": 1,
   "id": "5c9f0018-f507-40ee-a175-f18e6399b88c",
   "metadata": {},
   "outputs": [
    {
     "ename": "NameError",
     "evalue": "name 'd6' is not defined",
     "output_type": "error",
     "traceback": [
      "\u001b[0;31m---------------------------------------------------------------------------\u001b[0m",
      "\u001b[0;31mNameError\u001b[0m                                 Traceback (most recent call last)",
      "Cell \u001b[0;32mIn[1], line 1\u001b[0m\n\u001b[0;32m----> 1\u001b[0m \u001b[43md6\u001b[49m\u001b[38;5;241m.\u001b[39mpop()\n",
      "\u001b[0;31mNameError\u001b[0m: name 'd6' is not defined"
     ]
    }
   ],
   "source": [
    "d6.pop()"
   ]
  },
  {
   "cell_type": "code",
   "execution_count": 15,
   "id": "45908711-d66e-4b8c-bcf6-4696954192f7",
   "metadata": {},
   "outputs": [
    {
     "name": "stdout",
     "output_type": "stream",
     "text": [
      " you will be part of A3 BATCH \n"
     ]
    }
   ],
   "source": [
    "marks= 10 \n",
    "if marks >= 80: \n",
    "    print(\"you will be part of A0 batch\")\n",
    "elif marks >= 60 and marks< 80:\n",
    "        print (\"you will be the part of A1 batch\")\n",
    "elif marks >= 40 and marks < 60:\n",
    "            print(\" you will be a part of A2 Batch\")\n",
    "else : \n",
    "    print(\" you will be part of A3 BATCH \")\n",
    "            "
   ]
  },
  {
   "cell_type": "code",
   "execution_count": 16,
   "id": "c8d224a2-ab99-468b-a8c0-458b4826512d",
   "metadata": {},
   "outputs": [
    {
     "data": {
      "text/plain": [
       "False"
      ]
     },
     "execution_count": 16,
     "metadata": {},
     "output_type": "execute_result"
    }
   ],
   "source": [
    "10>= 80"
   ]
  },
  {
   "cell_type": "code",
   "execution_count": 23,
   "id": "ce2341f8-9efc-4fac-8a55-2a4012136fae",
   "metadata": {},
   "outputs": [
    {
     "name": "stdin",
     "output_type": "stream",
     "text": [
      " enter yours makrs 45\n"
     ]
    },
    {
     "name": "stdout",
     "output_type": "stream",
     "text": [
      " you will be a part of A2 Batch\n"
     ]
    }
   ],
   "source": [
    "marks =int(input(\" enter yours makrs\"))\n",
    "if marks >= 80: \n",
    "    print(\"you will be part of A0 batch\")\n",
    "elif marks >= 60 and marks< 80:\n",
    "        print (\"you will be the part of A1 batch\")\n",
    "elif marks >= 40 and marks < 60:\n",
    "            print(\" you will be a part of A2 Batch\")\n",
    "else : \n",
    "    print(\" you will be part of A3 BATCH \")\n",
    "            "
   ]
  },
  {
   "cell_type": "code",
   "execution_count": 24,
   "id": "d2bbef11-5e73-4fbb-829c-5ece65e45a3d",
   "metadata": {},
   "outputs": [
    {
     "name": "stdin",
     "output_type": "stream",
     "text": [
      " enter yours makrs 345\n"
     ]
    }
   ],
   "source": [
    "marks =int(input(\" enter yours makrs\"))"
   ]
  },
  {
   "cell_type": "code",
   "execution_count": 25,
   "id": "eead369c-cef0-4541-bc4f-15a6eb3fa62c",
   "metadata": {},
   "outputs": [
    {
     "data": {
      "text/plain": [
       "345"
      ]
     },
     "execution_count": 25,
     "metadata": {},
     "output_type": "execute_result"
    }
   ],
   "source": [
    "marks"
   ]
  },
  {
   "cell_type": "code",
   "execution_count": 26,
   "id": "11055ac6-2f25-40a0-ab55-44230853e91c",
   "metadata": {},
   "outputs": [
    {
     "data": {
      "text/plain": [
       "int"
      ]
     },
     "execution_count": 26,
     "metadata": {},
     "output_type": "execute_result"
    }
   ],
   "source": [
    "type(marks)"
   ]
  },
  {
   "cell_type": "code",
   "execution_count": 28,
   "id": "e66c8d40-1d5c-4b7c-9144-b6f959c43447",
   "metadata": {},
   "outputs": [
    {
     "name": "stdin",
     "output_type": "stream",
     "text": [
      "enter price 500\n"
     ]
    },
    {
     "name": "stdout",
     "output_type": "stream",
     "text": [
      " I will purchase\n"
     ]
    }
   ],
   "source": [
    "price = int(input(\"enter price\"))\n",
    "if price > 1000:\n",
    "    print(\"i will not purchase\")\n",
    "else : \n",
    "    print(\" I will purchase\")"
   ]
  },
  {
   "cell_type": "code",
   "execution_count": 40,
   "id": "b36f509d-c257-41c4-ab52-d156e773d2a5",
   "metadata": {},
   "outputs": [
    {
     "name": "stdin",
     "output_type": "stream",
     "text": [
      "enter price 1500\n"
     ]
    },
    {
     "name": "stdout",
     "output_type": "stream",
     "text": [
      "i will not purchase\n",
      "its ok\n"
     ]
    }
   ],
   "source": [
    "price = int(input(\"enter price\"))\n",
    "if price > 1000:\n",
    "    print(\"i will not purchase\")\n",
    "if price > 5000 : \n",
    "    print(\" this is too much\")\n",
    "elif price < 2000 :\n",
    "        print (\"its ok\")\n",
    "elif price < 1000 : \n",
    "    print (\" i will purchse\")\n",
    "else : \n",
    "    print(\" not intersted\")"
   ]
  },
  {
   "cell_type": "code",
   "execution_count": 51,
   "id": "069a01ab-c28b-473a-a5a1-a707d22fb84e",
   "metadata": {},
   "outputs": [],
   "source": [
    "l = [1,2,3,4,5,6,7,8]"
   ]
  },
  {
   "cell_type": "code",
   "execution_count": 52,
   "id": "2d4c41e4-3ef2-44cb-a4eb-745787e080a7",
   "metadata": {},
   "outputs": [
    {
     "data": {
      "text/plain": [
       "[1, 2, 3, 4, 5, 6, 7, 8]"
      ]
     },
     "execution_count": 52,
     "metadata": {},
     "output_type": "execute_result"
    }
   ],
   "source": [
    "l"
   ]
  },
  {
   "cell_type": "code",
   "execution_count": 54,
   "id": "90b149b0-fe4e-46dc-9be7-cd868e7ba054",
   "metadata": {},
   "outputs": [
    {
     "data": {
      "text/plain": [
       "2"
      ]
     },
     "execution_count": 54,
     "metadata": {},
     "output_type": "execute_result"
    }
   ],
   "source": [
    "l[0] +1"
   ]
  },
  {
   "cell_type": "code",
   "execution_count": 55,
   "id": "3fe38fe2-779c-4cc3-9ad3-a7d19f32f2ad",
   "metadata": {},
   "outputs": [],
   "source": [
    "l1 =[]"
   ]
  },
  {
   "cell_type": "code",
   "execution_count": 56,
   "id": "8093e2b7-dbab-431e-8e7d-f92e2b1accff",
   "metadata": {},
   "outputs": [],
   "source": [
    "l1.append(l[0]+1)"
   ]
  },
  {
   "cell_type": "code",
   "execution_count": 57,
   "id": "04f66738-1140-4532-9149-72420c96f6ba",
   "metadata": {},
   "outputs": [
    {
     "data": {
      "text/plain": [
       "[2]"
      ]
     },
     "execution_count": 57,
     "metadata": {},
     "output_type": "execute_result"
    }
   ],
   "source": [
    "l1"
   ]
  },
  {
   "cell_type": "code",
   "execution_count": 61,
   "id": "4bf8ecfc-0a12-41e6-863d-1321567b39bc",
   "metadata": {},
   "outputs": [
    {
     "data": {
      "text/plain": [
       "[1, 2, 3, 4, 5, 6, 7, 8]"
      ]
     },
     "execution_count": 61,
     "metadata": {},
     "output_type": "execute_result"
    }
   ],
   "source": [
    "l"
   ]
  },
  {
   "cell_type": "code",
   "execution_count": 62,
   "id": "392624c7-0a94-454f-a35c-53c2f441ab38",
   "metadata": {},
   "outputs": [
    {
     "name": "stdout",
     "output_type": "stream",
     "text": [
      "1\n",
      "2\n",
      "3\n",
      "4\n",
      "5\n",
      "6\n",
      "7\n",
      "8\n"
     ]
    }
   ],
   "source": [
    "for i in l :\n",
    "    print(i)"
   ]
  },
  {
   "cell_type": "code",
   "execution_count": 68,
   "id": "a2f2b7f5-59ed-434c-afea-22f0ba2b79ac",
   "metadata": {},
   "outputs": [
    {
     "name": "stdout",
     "output_type": "stream",
     "text": [
      "2\n",
      "3\n",
      "4\n",
      "5\n",
      "6\n",
      "7\n",
      "8\n",
      "9\n"
     ]
    },
    {
     "data": {
      "text/plain": [
       "[2, 3, 4, 5, 6, 7, 8, 9]"
      ]
     },
     "execution_count": 68,
     "metadata": {},
     "output_type": "execute_result"
    }
   ],
   "source": [
    "l1 = []\n",
    "for i in l :\n",
    "    print (i+1)\n",
    "    l1.append(i+1)\n",
    "l1"
   ]
  },
  {
   "cell_type": "code",
   "execution_count": 71,
   "id": "31493746-09fa-427a-be4a-09454c464516",
   "metadata": {},
   "outputs": [],
   "source": [
    "l = [\"jitender\" ,\"mudgal\",\"pwskills\", \"course\"]"
   ]
  },
  {
   "cell_type": "code",
   "execution_count": 76,
   "id": "1a83235a-20c4-4bb6-9aeb-941d1ccc9d7a",
   "metadata": {},
   "outputs": [
    {
     "name": "stdout",
     "output_type": "stream",
     "text": [
      "jitender\n",
      " mudgal\n",
      "pwskills\n",
      "course\n"
     ]
    }
   ],
   "source": [
    "l1=[]\n",
    "for i in l :\n",
    "    print(i)\n",
    "    l1.append(i.upper())"
   ]
  },
  {
   "cell_type": "code",
   "execution_count": 77,
   "id": "1b7aa7d5-ffe4-45f2-8fcc-43e13a105fdb",
   "metadata": {},
   "outputs": [
    {
     "data": {
      "text/plain": [
       "['JITENDER', ' MUDGAL', 'PWSKILLS', 'COURSE']"
      ]
     },
     "execution_count": 77,
     "metadata": {},
     "output_type": "execute_result"
    }
   ],
   "source": [
    "l1"
   ]
  },
  {
   "cell_type": "code",
   "execution_count": 79,
   "id": "fc5814e9-cb96-4668-a525-c27e70f8f347",
   "metadata": {},
   "outputs": [],
   "source": [
    "l = [1,2,3,4,4,\"jitu\" , \"mudgal\", 324, 34.456, \"abc\"]"
   ]
  },
  {
   "cell_type": "code",
   "execution_count": 83,
   "id": "ea6ce9d4-9439-47bf-8d85-3e8f0e0d4b91",
   "metadata": {},
   "outputs": [],
   "source": [
    "l1_num = []\n",
    "l2_str = []\n",
    "for i in l :\n",
    "    if type(i) == int or type(i) == float :\n",
    "        l1_num.append(i) \n",
    "    else :\n",
    "        l2_str.append(i) "
   ]
  },
  {
   "cell_type": "code",
   "execution_count": 84,
   "id": "7a5f83f3-9760-4cd8-80cf-e776488f3196",
   "metadata": {},
   "outputs": [
    {
     "data": {
      "text/plain": [
       "[1, 2, 3, 4, 4, 324, 34.456]"
      ]
     },
     "execution_count": 84,
     "metadata": {},
     "output_type": "execute_result"
    }
   ],
   "source": [
    "l1_num"
   ]
  },
  {
   "cell_type": "code",
   "execution_count": 85,
   "id": "52a75e17-1be3-4727-b8cb-d00a0365bd1e",
   "metadata": {},
   "outputs": [
    {
     "data": {
      "text/plain": [
       "['jitu', 'mudgal', 'abc']"
      ]
     },
     "execution_count": 85,
     "metadata": {},
     "output_type": "execute_result"
    }
   ],
   "source": [
    "l2_str"
   ]
  },
  {
   "cell_type": "code",
   "execution_count": null,
   "id": "4be7a8cc-d8ad-4a08-a028-2595d0aa323e",
   "metadata": {},
   "outputs": [],
   "source": []
  },
  {
   "cell_type": "code",
   "execution_count": null,
   "id": "86d39255-d97f-451d-96cf-2d2f2e599993",
   "metadata": {},
   "outputs": [],
   "source": []
  },
  {
   "cell_type": "code",
   "execution_count": null,
   "id": "a458ebea-226a-4be1-9ceb-45bdf6cebe54",
   "metadata": {},
   "outputs": [],
   "source": []
  },
  {
   "cell_type": "code",
   "execution_count": null,
   "id": "63d2fe20-69d5-43ee-b330-0e9189d091d5",
   "metadata": {},
   "outputs": [],
   "source": []
  },
  {
   "cell_type": "code",
   "execution_count": null,
   "id": "82ecc419-e05f-4d96-ae90-2618e14829c7",
   "metadata": {},
   "outputs": [],
   "source": []
  },
  {
   "cell_type": "code",
   "execution_count": 75,
   "id": "cf555c83-27ae-423f-9fb4-b62a2e6eefa9",
   "metadata": {},
   "outputs": [
    {
     "data": {
      "text/plain": [
       "[2, 3, 4, 5, 6, 7, 8, 9]"
      ]
     },
     "execution_count": 75,
     "metadata": {},
     "output_type": "execute_result"
    }
   ],
   "source": [
    "l1"
   ]
  },
  {
   "cell_type": "code",
   "execution_count": null,
   "id": "484443a2-4e1a-4559-b05c-9c7de0e2676c",
   "metadata": {},
   "outputs": [],
   "source": []
  },
  {
   "cell_type": "code",
   "execution_count": null,
   "id": "7611d451-aff6-4377-b74f-20c0f851429f",
   "metadata": {},
   "outputs": [],
   "source": []
  },
  {
   "cell_type": "code",
   "execution_count": null,
   "id": "d0570682-e5b8-4c47-a49b-c3b39db95137",
   "metadata": {},
   "outputs": [],
   "source": []
  },
  {
   "cell_type": "code",
   "execution_count": null,
   "id": "a04f8180-e00b-451e-b538-3e21a7278ca1",
   "metadata": {},
   "outputs": [],
   "source": []
  },
  {
   "cell_type": "code",
   "execution_count": null,
   "id": "f2d43d15-6d01-446e-94ed-897f0cb11cdf",
   "metadata": {},
   "outputs": [],
   "source": []
  },
  {
   "cell_type": "code",
   "execution_count": 66,
   "id": "c23dbcd7-e7c1-47e7-aeae-21260524b01c",
   "metadata": {},
   "outputs": [
    {
     "data": {
      "text/plain": [
       "[]"
      ]
     },
     "execution_count": 66,
     "metadata": {},
     "output_type": "execute_result"
    }
   ],
   "source": [
    "l1"
   ]
  },
  {
   "cell_type": "code",
   "execution_count": null,
   "id": "30449bd6-70eb-42ee-a256-ae07e4dd11cf",
   "metadata": {},
   "outputs": [],
   "source": []
  },
  {
   "cell_type": "code",
   "execution_count": 64,
   "id": "3efb4b16-14c9-4e55-bce2-26043766234d",
   "metadata": {},
   "outputs": [
    {
     "data": {
      "text/plain": [
       "[1, 2, 3, 4, 5, 6, 7, 8]"
      ]
     },
     "execution_count": 64,
     "metadata": {},
     "output_type": "execute_result"
    }
   ],
   "source": [
    "l"
   ]
  },
  {
   "cell_type": "code",
   "execution_count": null,
   "id": "80a4e363-16ec-4e12-b608-b14628171404",
   "metadata": {},
   "outputs": [],
   "source": []
  },
  {
   "cell_type": "code",
   "execution_count": null,
   "id": "34db7e3a-d797-4bea-8447-a4df614c7f27",
   "metadata": {},
   "outputs": [],
   "source": []
  },
  {
   "cell_type": "code",
   "execution_count": null,
   "id": "d7381c44-b438-4197-b2aa-a6c44e95b3e6",
   "metadata": {},
   "outputs": [],
   "source": []
  },
  {
   "cell_type": "code",
   "execution_count": null,
   "id": "f89517d8-9f36-4b07-ba88-27215a209e6c",
   "metadata": {},
   "outputs": [],
   "source": []
  },
  {
   "cell_type": "code",
   "execution_count": null,
   "id": "195a3aed-5b74-4eec-a5fa-2a4e38f439ac",
   "metadata": {},
   "outputs": [],
   "source": []
  },
  {
   "cell_type": "code",
   "execution_count": null,
   "id": "870833b1-16bd-4707-bd16-2e7f50238354",
   "metadata": {},
   "outputs": [],
   "source": []
  },
  {
   "cell_type": "code",
   "execution_count": 49,
   "id": "62a1b7f9-48d7-4e4f-9745-9bf56f748fef",
   "metadata": {},
   "outputs": [
    {
     "data": {
      "text/plain": [
       "1"
      ]
     },
     "execution_count": 49,
     "metadata": {},
     "output_type": "execute_result"
    }
   ],
   "source": []
  },
  {
   "cell_type": "code",
   "execution_count": null,
   "id": "9c44659e-9f9f-4d36-b17a-1f9876d30ae1",
   "metadata": {},
   "outputs": [],
   "source": []
  },
  {
   "cell_type": "code",
   "execution_count": null,
   "id": "4017f404-9b45-45f3-a65f-9289651f6e1f",
   "metadata": {},
   "outputs": [],
   "source": []
  },
  {
   "cell_type": "code",
   "execution_count": null,
   "id": "c668e591-3be9-4602-9e86-63a73d01c10f",
   "metadata": {},
   "outputs": [],
   "source": []
  },
  {
   "cell_type": "code",
   "execution_count": null,
   "id": "74559d2b-f433-494a-8d3b-ff9454d2c821",
   "metadata": {},
   "outputs": [],
   "source": []
  },
  {
   "cell_type": "code",
   "execution_count": null,
   "id": "fdd2e54b-8441-424b-a146-a3aa0466489e",
   "metadata": {},
   "outputs": [],
   "source": []
  },
  {
   "cell_type": "code",
   "execution_count": null,
   "id": "72e87241-84a8-43dc-9924-f848f66650c5",
   "metadata": {},
   "outputs": [],
   "source": []
  },
  {
   "cell_type": "code",
   "execution_count": null,
   "id": "8ce40f14-e181-4433-9ca1-78d92eb76ab2",
   "metadata": {},
   "outputs": [],
   "source": []
  },
  {
   "cell_type": "code",
   "execution_count": null,
   "id": "d382d5f0-aadc-4456-8dde-5f261ac5199a",
   "metadata": {},
   "outputs": [],
   "source": []
  },
  {
   "cell_type": "code",
   "execution_count": null,
   "id": "336d12d5-a09e-4559-93b1-cf9c590bbb97",
   "metadata": {},
   "outputs": [],
   "source": []
  },
  {
   "cell_type": "code",
   "execution_count": null,
   "id": "13711e97-618a-4f9d-a388-84eda9b70942",
   "metadata": {},
   "outputs": [],
   "source": []
  },
  {
   "cell_type": "code",
   "execution_count": null,
   "id": "81c8e042-fffe-4a44-8928-666060000d36",
   "metadata": {},
   "outputs": [],
   "source": []
  },
  {
   "cell_type": "code",
   "execution_count": null,
   "id": "4f5e83a6-3ac5-48ae-a96f-1e3bce2e82aa",
   "metadata": {},
   "outputs": [],
   "source": []
  },
  {
   "cell_type": "code",
   "execution_count": null,
   "id": "557fd649-af73-42c9-80af-e4b714feb436",
   "metadata": {},
   "outputs": [],
   "source": []
  },
  {
   "cell_type": "code",
   "execution_count": null,
   "id": "7fee4344-b4fd-4201-a8c3-9ceae4581389",
   "metadata": {},
   "outputs": [],
   "source": []
  },
  {
   "cell_type": "code",
   "execution_count": null,
   "id": "bc07c07a-f31a-41bc-b3d0-ce4f74b10cfd",
   "metadata": {},
   "outputs": [],
   "source": []
  },
  {
   "cell_type": "code",
   "execution_count": null,
   "id": "43ab4d46-1ef1-486d-96fc-42a13f81ac84",
   "metadata": {},
   "outputs": [],
   "source": []
  },
  {
   "cell_type": "code",
   "execution_count": null,
   "id": "530ab7c0-5941-4014-9726-4df7c557a94f",
   "metadata": {},
   "outputs": [],
   "source": []
  },
  {
   "cell_type": "code",
   "execution_count": null,
   "id": "799ece5c-d231-4e5d-ac79-1f21f1726a67",
   "metadata": {},
   "outputs": [],
   "source": []
  },
  {
   "cell_type": "code",
   "execution_count": null,
   "id": "caa68902-d1c4-43b9-af03-f4bcb7a662e3",
   "metadata": {},
   "outputs": [],
   "source": []
  },
  {
   "cell_type": "code",
   "execution_count": null,
   "id": "ae8c278b-9068-495e-bb82-c115e5938ac7",
   "metadata": {},
   "outputs": [],
   "source": []
  },
  {
   "cell_type": "code",
   "execution_count": null,
   "id": "b7c2d578-4a52-4f3d-9843-7fc928f4912c",
   "metadata": {},
   "outputs": [],
   "source": []
  },
  {
   "cell_type": "code",
   "execution_count": null,
   "id": "e0d5c594-fc06-4251-a9e3-cf50609c7632",
   "metadata": {},
   "outputs": [],
   "source": []
  },
  {
   "cell_type": "code",
   "execution_count": null,
   "id": "09c7ae56-8e9b-4fe7-b090-1493c027018d",
   "metadata": {},
   "outputs": [],
   "source": []
  },
  {
   "cell_type": "code",
   "execution_count": null,
   "id": "94d58858-e929-4e9d-aee1-d35f465d385c",
   "metadata": {},
   "outputs": [],
   "source": []
  },
  {
   "cell_type": "code",
   "execution_count": null,
   "id": "63db129a-ef81-4dad-89e0-288e1444d554",
   "metadata": {},
   "outputs": [],
   "source": []
  },
  {
   "cell_type": "code",
   "execution_count": null,
   "id": "8dbb1afb-d122-465f-8f7f-33d8ab1f7007",
   "metadata": {},
   "outputs": [],
   "source": []
  },
  {
   "cell_type": "code",
   "execution_count": null,
   "id": "50fce446-7e82-4ba7-95c2-a9cb4e99aab6",
   "metadata": {},
   "outputs": [],
   "source": []
  },
  {
   "cell_type": "code",
   "execution_count": null,
   "id": "608793e8-6426-4c60-8f30-be27274f39f7",
   "metadata": {},
   "outputs": [],
   "source": []
  },
  {
   "cell_type": "code",
   "execution_count": null,
   "id": "4c356835-ae99-42bd-8380-e04c27c3ff73",
   "metadata": {},
   "outputs": [],
   "source": []
  },
  {
   "cell_type": "code",
   "execution_count": null,
   "id": "02ecb5a8-7747-460e-a87f-db1ef218bb2b",
   "metadata": {},
   "outputs": [],
   "source": []
  },
  {
   "cell_type": "code",
   "execution_count": null,
   "id": "40bf27e7-b295-446f-950b-e543a815b32f",
   "metadata": {},
   "outputs": [],
   "source": []
  },
  {
   "cell_type": "code",
   "execution_count": null,
   "id": "ce5abe2c-55dd-4281-9a78-d26517f4e5f3",
   "metadata": {},
   "outputs": [],
   "source": []
  },
  {
   "cell_type": "code",
   "execution_count": null,
   "id": "87180fd8-586e-4d83-8a40-10d409101f7f",
   "metadata": {},
   "outputs": [],
   "source": []
  },
  {
   "cell_type": "code",
   "execution_count": null,
   "id": "796c4932-a4bc-42ed-8f97-2022602b91be",
   "metadata": {},
   "outputs": [],
   "source": []
  },
  {
   "cell_type": "code",
   "execution_count": null,
   "id": "58815f9a-709e-4668-993c-b9003b32ac1a",
   "metadata": {},
   "outputs": [],
   "source": []
  },
  {
   "cell_type": "code",
   "execution_count": null,
   "id": "9fff31ef-d351-4a3c-b227-6a883588a4e9",
   "metadata": {},
   "outputs": [],
   "source": []
  },
  {
   "cell_type": "code",
   "execution_count": null,
   "id": "7482907d-cf1f-47f9-b3c7-aac68b4c784c",
   "metadata": {},
   "outputs": [],
   "source": []
  },
  {
   "cell_type": "code",
   "execution_count": null,
   "id": "ed30a88c-078f-43ee-a8ce-a04ad01272da",
   "metadata": {},
   "outputs": [],
   "source": []
  },
  {
   "cell_type": "code",
   "execution_count": null,
   "id": "20d3dd95-45c2-4a4d-bb99-dce2b7120451",
   "metadata": {},
   "outputs": [],
   "source": []
  },
  {
   "cell_type": "code",
   "execution_count": null,
   "id": "3dd3ac02-d610-4e87-92c9-64dce8a51b02",
   "metadata": {},
   "outputs": [],
   "source": []
  },
  {
   "cell_type": "code",
   "execution_count": null,
   "id": "00c19f88-9e2c-4fbf-961e-f40799764956",
   "metadata": {},
   "outputs": [],
   "source": []
  },
  {
   "cell_type": "code",
   "execution_count": null,
   "id": "8b9ba49a-3049-4d61-8503-afe9b5af91bd",
   "metadata": {},
   "outputs": [],
   "source": []
  },
  {
   "cell_type": "code",
   "execution_count": null,
   "id": "f2653f16-7690-4261-a396-53218555e83c",
   "metadata": {},
   "outputs": [],
   "source": []
  },
  {
   "cell_type": "code",
   "execution_count": null,
   "id": "aff3139a-55fd-4117-ad49-db20851e154e",
   "metadata": {},
   "outputs": [],
   "source": []
  },
  {
   "cell_type": "code",
   "execution_count": null,
   "id": "b9665aa6-d7b9-488f-9220-00086806256e",
   "metadata": {},
   "outputs": [],
   "source": []
  },
  {
   "cell_type": "code",
   "execution_count": null,
   "id": "b7729784-12a9-4320-986f-a98e81ea4023",
   "metadata": {},
   "outputs": [],
   "source": []
  }
 ],
 "metadata": {
  "kernelspec": {
   "display_name": "Python 3 (ipykernel)",
   "language": "python",
   "name": "python3"
  },
  "language_info": {
   "codemirror_mode": {
    "name": "ipython",
    "version": 3
   },
   "file_extension": ".py",
   "mimetype": "text/x-python",
   "name": "python",
   "nbconvert_exporter": "python",
   "pygments_lexer": "ipython3",
   "version": "3.10.8"
  }
 },
 "nbformat": 4,
 "nbformat_minor": 5
}
